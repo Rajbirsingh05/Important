{
 "cells": [
  {
   "cell_type": "raw",
   "metadata": {},
   "source": [
    "Question:-1\n",
    "Create the below pattern using nested for loop in python\n",
    "*\n",
    "* *\n",
    "* * *\n",
    "* * * *\n",
    "* * * * *\n",
    "* * * *\n",
    "* * *\n",
    "* *\n",
    "*"
   ]
  },
  {
   "cell_type": "code",
   "execution_count": 1,
   "metadata": {},
   "outputs": [
    {
     "name": "stdout",
     "output_type": "stream",
     "text": [
      "*\n",
      "* *\n",
      "* * *\n",
      "* * * *\n",
      "* * * * *\n",
      "* * * * * *\n",
      "* * * * *\n",
      "* * * *\n",
      "* * *\n",
      "* *\n",
      "*\n"
     ]
    }
   ],
   "source": [
    "# Using first for loop for print * forward\n",
    "for i in range(5):  \n",
    "    for j in range(i):\n",
    "        print(\"*\", end = \" \")\n",
    "    print(\"*\")\n",
    "# 2nd loop is to print * in backward. \n",
    "for i in range(5,-1,-1): # we dont need to printing * till its lenght thus using -1, second -1 is used to start printing* reverse order\n",
    "    for j in range(i):\n",
    "        print(\"*\",end= \" \")\n",
    "    print(\"*\")"
   ]
  },
  {
   "cell_type": "markdown",
   "metadata": {},
   "source": [
    "Question 2:- Write a python program to reverse a word after accpeting the input from the user"
   ]
  },
  {
   "cell_type": "code",
   "execution_count": 2,
   "metadata": {},
   "outputs": [
    {
     "name": "stdout",
     "output_type": "stream",
     "text": [
      "Enter the word :- Ineuron\n",
      "noruenI"
     ]
    }
   ],
   "source": [
    "word = input(\"Enter the word :- \")\n",
    "for i in range(len(word)-1,-1,-1):\n",
    "    print(word[i],end =\"\")"
   ]
  },
  {
   "cell_type": "code",
   "execution_count": null,
   "metadata": {},
   "outputs": [],
   "source": []
  }
 ],
 "metadata": {
  "kernelspec": {
   "display_name": "Python 3",
   "language": "python",
   "name": "python3"
  },
  "language_info": {
   "codemirror_mode": {
    "name": "ipython",
    "version": 3
   },
   "file_extension": ".py",
   "mimetype": "text/x-python",
   "name": "python",
   "nbconvert_exporter": "python",
   "pygments_lexer": "ipython3",
   "version": "3.7.3"
  }
 },
 "nbformat": 4,
 "nbformat_minor": 2
}
