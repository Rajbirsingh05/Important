{
 "cells": [
  {
   "cell_type": "markdown",
   "metadata": {},
   "source": [
    "Write a function filter_long_words() that takes a list of words and an integer n and returns\n",
    "the list of words that are longer than n."
   ]
  },
  {
   "cell_type": "code",
   "execution_count": 1,
   "metadata": {},
   "outputs": [
    {
     "data": {
      "text/plain": [
       "'Rajbir'"
      ]
     },
     "execution_count": 1,
     "metadata": {},
     "output_type": "execute_result"
    }
   ],
   "source": [
    "def filter_long_words(string, number):\n",
    "    if len(string) > number:\n",
    "        return string\n",
    "    return number\n",
    "filter_long_words(\"Rajbir\",3)"
   ]
  },
  {
   "cell_type": "markdown",
   "metadata": {},
   "source": [
    "2.1 Write a Python program using function concept that maps list of words into a list of integers\n",
    "representing the lengths of the corresponding words.\n",
    "Hint: If a list [ ab,cde,erty] is passed on to the python function output should come as [2,3,4]\n",
    "Here 2,3 and 4 are the lengths of the words in the list."
   ]
  },
  {
   "cell_type": "code",
   "execution_count": 2,
   "metadata": {},
   "outputs": [
    {
     "name": "stdout",
     "output_type": "stream",
     "text": [
      "[5, 3, 3, 3]\n"
     ]
    }
   ],
   "source": [
    "lenght_of_word = map(lambda x: len(x),[\"hello\",\"how\",\"are\",\"you\"]) \n",
    "print(list(lenght_of_word))"
   ]
  },
  {
   "cell_type": "markdown",
   "metadata": {},
   "source": [
    "2.2 Write a Python function which takes a character (i.e. a string of length 1) and returns True if\n",
    "it is a vowel, False otherwise."
   ]
  },
  {
   "cell_type": "code",
   "execution_count": 3,
   "metadata": {},
   "outputs": [
    {
     "data": {
      "text/plain": [
       "'Character is vowel'"
      ]
     },
     "execution_count": 3,
     "metadata": {},
     "output_type": "execute_result"
    }
   ],
   "source": [
    "def find_vowel(x):\n",
    "    if x in \"aeiou\":\n",
    "        return \"Character is vowel\"\n",
    "    return  \"it is consonent\"\n",
    "find_vowel(\"a\")"
   ]
  },
  {
   "cell_type": "code",
   "execution_count": 4,
   "metadata": {},
   "outputs": [
    {
     "name": "stdout",
     "output_type": "stream",
     "text": [
      "First side value:-12\n",
      "Second side value:-9\n",
      "Third side value:- 10\n",
      "The area of triangle is 44.039045175843675\n"
     ]
    }
   ],
   "source": [
    "class tri_sides:\n",
    "    def __init__(self):\n",
    "        self.a = int(input(\"First side value:-\"))\n",
    "        self.b = int(input(\"Second side value:-\" ))\n",
    "        self.c = int(input(\"Third side value:- \"))\n",
    "        \n",
    "class area_calculate(tri_sides):\n",
    "    def __init__(self):\n",
    "        super(area_calculate,self).__init__()\n",
    "    @property\n",
    "    def calcuate(self): # using this instance method as attributes using properthy \n",
    "        s = (self.a + self.b + self.c)/2\n",
    "        area = (s*(s-self.a)*(s-self.b)*(s-self.c))**0.5\n",
    "        return f\"The area of triangle is {area}\"\n",
    "\n",
    "        \n",
    "calcu = area_calculate()\n",
    "print(calcu.calcuate)"
   ]
  },
  {
   "cell_type": "code",
   "execution_count": null,
   "metadata": {},
   "outputs": [],
   "source": []
  }
 ],
 "metadata": {
  "kernelspec": {
   "display_name": "Python 3",
   "language": "python",
   "name": "python3"
  },
  "language_info": {
   "codemirror_mode": {
    "name": "ipython",
    "version": 3
   },
   "file_extension": ".py",
   "mimetype": "text/x-python",
   "name": "python",
   "nbconvert_exporter": "python",
   "pygments_lexer": "ipython3",
   "version": "3.7.3"
  }
 },
 "nbformat": 4,
 "nbformat_minor": 2
}
